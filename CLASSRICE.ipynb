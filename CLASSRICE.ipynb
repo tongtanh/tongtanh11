{
  "nbformat": 4,
  "nbformat_minor": 0,
  "metadata": {
    "colab": {
      "provenance": [],
      "collapsed_sections": []
    },
    "kernelspec": {
      "name": "python3",
      "display_name": "Python 3"
    },
    "language_info": {
      "name": "python"
    },
    "gpuClass": "standard"
  },
  "cells": [
    {
      "cell_type": "code",
      "execution_count": 1,
      "metadata": {
        "colab": {
          "base_uri": "https://localhost:8080/"
        },
        "id": "8xogVpQI0yYU",
        "outputId": "79bc96cf-41cf-41d2-ac33-37b4e9b75c0a"
      },
      "outputs": [
        {
          "output_type": "stream",
          "name": "stdout",
          "text": [
            "Mounted at /content/drive\n"
          ]
        }
      ],
      "source": [
        "from google.colab import drive\n",
        "drive.mount('/content/drive')"
      ]
    },
    {
      "cell_type": "code",
      "source": [
        "import numpy as np\n",
        "import pandas as pd \n",
        "import matplotlib.pyplot as plt"
      ],
      "metadata": {
        "id": "rydDb3BP5wTP"
      },
      "execution_count": 2,
      "outputs": []
    },
    {
      "cell_type": "code",
      "source": [
        "import cv2\n",
        "from pathlib import Path\n",
        "path1 = Path('/content/drive/MyDrive/Rice_Image_Dataset/')\n",
        "classnames = []\n",
        "for path in Path(path1).iterdir():\n",
        "    if path.is_dir():\n",
        "        classnames.append(str(path).split('/')[-1])\n",
        "print(classnames)"
      ],
      "metadata": {
        "id": "Pv2SO1gD5_OI",
        "colab": {
          "base_uri": "https://localhost:8080/"
        },
        "outputId": "53fbdd17-4a2f-4404-8e8f-913c9815419f"
      },
      "execution_count": 3,
      "outputs": [
        {
          "output_type": "stream",
          "name": "stdout",
          "text": [
            "['Jasmine', 'Karacadag', 'Ipsala', 'Arborio', 'Basmati']\n"
          ]
        }
      ]
    },
    {
      "cell_type": "code",
      "source": [
        "X = []\n",
        "y = []\n",
        "for i in range(len(classnames)):\n",
        "  print(classnames[i])\n",
        "  images = list(Path('/content/drive/MyDrive/Rice_Image_Dataset/'+classnames[i]).glob('*'))\n",
        "  for image in range(int(0.4*len(images))):\n",
        "    img = cv2.imread(str(images[image]))\n",
        "    img = cv2.resize(img, (64, 64))\n",
        "    img = img.astype('float32')\n",
        "    img = img/255\n",
        "    X.append(img)\n",
        "    y.append(i)"
      ],
      "metadata": {
        "colab": {
          "base_uri": "https://localhost:8080/"
        },
        "id": "HkvaZIP_ACjK",
        "outputId": "526ffed6-7989-42e4-96e5-19e4d625a6fa"
      },
      "execution_count": 4,
      "outputs": [
        {
          "output_type": "stream",
          "name": "stdout",
          "text": [
            "Jasmine\n",
            "Karacadag\n",
            "Ipsala\n",
            "Arborio\n",
            "Basmati\n"
          ]
        }
      ]
    },
    {
      "cell_type": "code",
      "source": [
        "from keras.utils import to_categorical\n",
        "y = to_categorical(y)\n",
        "print(np.array(X).shape)"
      ],
      "metadata": {
        "id": "UXbLhHCgNxlK",
        "colab": {
          "base_uri": "https://localhost:8080/"
        },
        "outputId": "b8c5727e-31a8-452b-874a-6ffa6992179e"
      },
      "execution_count": 5,
      "outputs": [
        {
          "output_type": "stream",
          "name": "stdout",
          "text": [
            "(901, 64, 64, 3)\n"
          ]
        }
      ]
    },
    {
      "cell_type": "code",
      "source": [
        "from sklearn.model_selection import train_test_split\n",
        "X_train, X_test, y_train, y_test = train_test_split(np.array(X), np.array(y), test_size=0.2)"
      ],
      "metadata": {
        "id": "m6m5Ta_cBYWR"
      },
      "execution_count": 6,
      "outputs": []
    },
    {
      "cell_type": "code",
      "source": [
        "from keras.models import Sequential, Model\n",
        "from keras.layers import Dense, Activation, Flatten\n",
        "from keras.layers import Conv2D, MaxPooling2D\n",
        "\n",
        "model = Sequential()\n",
        "model.add((Conv2D(32, kernel_size=(3,3), activation='relu', input_shape=(64,64,3), padding='same')))\n",
        "model.add(MaxPooling2D((2,2), padding='same'))\n",
        "\n",
        "model.add(Conv2D(64, kernel_size=(3,3), activation='relu', padding='same'))\n",
        "model.add(MaxPooling2D((2,2),padding='same'))\n",
        "\n",
        "model.add(Flatten())\n",
        "model.add(Dense(128, activation= 'relu'))\n",
        "model.add(Dense(5, activation= 'softmax'))\n",
        "\n",
        "from keras.optimizers import Adam\n",
        "import keras\n",
        "model.compile(optimizer= Adam(), loss = keras.losses.categorical_crossentropy, metrics= ['accuracy'])"
      ],
      "metadata": {
        "id": "q9wf_FVEBcdo"
      },
      "execution_count": 9,
      "outputs": []
    },
    {
      "cell_type": "code",
      "source": [
        "history = model.fit(X_train, y_train, batch_size= 128 , epochs= 20 , verbose= 2)"
      ],
      "metadata": {
        "colab": {
          "base_uri": "https://localhost:8080/"
        },
        "id": "NV9gPTovBhK7",
        "outputId": "88624105-578e-4734-ed64-ad7f361a8b2a"
      },
      "execution_count": 10,
      "outputs": [
        {
          "output_type": "stream",
          "name": "stdout",
          "text": [
            "Epoch 1/20\n",
            "6/6 - 3s - loss: 0.7797 - accuracy: 0.7222 - 3s/epoch - 548ms/step\n",
            "Epoch 2/20\n",
            "6/6 - 3s - loss: 0.0494 - accuracy: 0.9917 - 3s/epoch - 451ms/step\n",
            "Epoch 3/20\n",
            "6/6 - 3s - loss: 0.0120 - accuracy: 0.9958 - 3s/epoch - 449ms/step\n",
            "Epoch 4/20\n",
            "6/6 - 3s - loss: 0.0034 - accuracy: 0.9986 - 3s/epoch - 441ms/step\n",
            "Epoch 5/20\n",
            "6/6 - 3s - loss: 0.0057 - accuracy: 0.9986 - 3s/epoch - 459ms/step\n",
            "Epoch 6/20\n",
            "6/6 - 3s - loss: 0.0078 - accuracy: 0.9986 - 3s/epoch - 449ms/step\n",
            "Epoch 7/20\n",
            "6/6 - 3s - loss: 0.0097 - accuracy: 0.9986 - 3s/epoch - 509ms/step\n",
            "Epoch 8/20\n",
            "6/6 - 4s - loss: 0.0200 - accuracy: 0.9931 - 4s/epoch - 666ms/step\n",
            "Epoch 9/20\n",
            "6/6 - 3s - loss: 0.0063 - accuracy: 0.9972 - 3s/epoch - 532ms/step\n",
            "Epoch 10/20\n",
            "6/6 - 3s - loss: 0.0048 - accuracy: 0.9972 - 3s/epoch - 450ms/step\n",
            "Epoch 11/20\n",
            "6/6 - 3s - loss: 0.0056 - accuracy: 0.9972 - 3s/epoch - 451ms/step\n",
            "Epoch 12/20\n",
            "6/6 - 3s - loss: 0.0013 - accuracy: 1.0000 - 3s/epoch - 431ms/step\n",
            "Epoch 13/20\n",
            "6/6 - 3s - loss: 1.1420e-04 - accuracy: 1.0000 - 3s/epoch - 436ms/step\n",
            "Epoch 14/20\n",
            "6/6 - 5s - loss: 8.8895e-05 - accuracy: 1.0000 - 5s/epoch - 752ms/step\n",
            "Epoch 15/20\n",
            "6/6 - 4s - loss: 1.7905e-04 - accuracy: 1.0000 - 4s/epoch - 689ms/step\n",
            "Epoch 16/20\n",
            "6/6 - 3s - loss: 1.2183e-04 - accuracy: 1.0000 - 3s/epoch - 441ms/step\n",
            "Epoch 17/20\n",
            "6/6 - 3s - loss: 4.5240e-05 - accuracy: 1.0000 - 3s/epoch - 437ms/step\n",
            "Epoch 18/20\n",
            "6/6 - 3s - loss: 3.2944e-05 - accuracy: 1.0000 - 3s/epoch - 448ms/step\n",
            "Epoch 19/20\n",
            "6/6 - 3s - loss: 2.9449e-05 - accuracy: 1.0000 - 3s/epoch - 443ms/step\n",
            "Epoch 20/20\n",
            "6/6 - 3s - loss: 2.6859e-05 - accuracy: 1.0000 - 3s/epoch - 439ms/step\n"
          ]
        }
      ]
    },
    {
      "cell_type": "code",
      "source": [
        "plt.plot(history.history['accuracy'])\n",
        "plt.plot(history.history['loss'])\n",
        "plt.title('do chinh xac mo hinh')\n",
        "plt.ylabel('do chinh xac')\n",
        "plt.xlabel('so lan do')\n",
        "plt.legend(['do chinh xac','sai so'], loc = 'lower right')"
      ],
      "metadata": {
        "colab": {
          "base_uri": "https://localhost:8080/",
          "height": 312
        },
        "id": "m7U8J9VFBvR3",
        "outputId": "f72c67ef-f1cd-4aee-e69d-23235f6277c9"
      },
      "execution_count": 11,
      "outputs": [
        {
          "output_type": "execute_result",
          "data": {
            "text/plain": [
              "<matplotlib.legend.Legend at 0x7f73a32a7bd0>"
            ]
          },
          "metadata": {},
          "execution_count": 11
        },
        {
          "output_type": "display_data",
          "data": {
            "text/plain": [
              "<Figure size 432x288 with 1 Axes>"
            ],
            "image/png": "[encoded data removed]"
          },
          "metadata": {
            "needs_background": "light"
          }
        }
      ]
    },
    {
      "cell_type": "code",
      "source": [
        "#evaluating the model for testing data..\n",
        "test_loss,test_acc=model.evaluate(X_test,y_test)"
      ],
      "metadata": {
        "colab": {
          "base_uri": "https://localhost:8080/"
        },
        "id": "kPfM4sYYCBoH",
        "outputId": "286ded10-8b17-4292-ce2d-5ca9a41ff852"
      },
      "execution_count": 12,
      "outputs": [
        {
          "output_type": "stream",
          "name": "stdout",
          "text": [
            "6/6 [==============================] - 0s 34ms/step - loss: 0.0520 - accuracy: 0.9834\n"
          ]
        }
      ]
    },
    {
      "cell_type": "code",
      "source": [
        "n = 55\n",
        "print(X_test[n].shape)\n",
        "plt.imshow(X_test[n])\n",
        "pred = model.predict(X_test[n].reshape((1, 64, 64, 3)))\n",
        "print(classnames[pred.argmax()])\n",
        "print(classnames[y_test[n].argmax()])"
      ],
      "metadata": {
        "colab": {
          "base_uri": "https://localhost:8080/",
          "height": 337
        },
        "id": "CYt7vq6NCETd",
        "outputId": "9278134d-7a11-4e3e-8979-0f4171f3de52"
      },
      "execution_count": 15,
      "outputs": [
        {
          "output_type": "stream",
          "name": "stdout",
          "text": [
            "(64, 64, 3)\n",
            "1/1 [==============================] - 0s 15ms/step\n",
            "Basmati\n",
            "Basmati\n"
          ]
        },
        {
          "output_type": "display_data",
          "data": {
            "text/plain": [
              "<Figure size 432x288 with 1 Axes>"
            ],
            "image/png": "[encoded data removed]"
          },
          "metadata": {
            "needs_background": "light"
          }
        }
      ]
    }
  ]
}