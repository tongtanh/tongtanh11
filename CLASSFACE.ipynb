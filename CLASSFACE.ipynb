{
  "nbformat": 4,
  "nbformat_minor": 0,
  "metadata": {
    "colab": {
      "provenance": [],
      "collapsed_sections": []
    },
    "kernelspec": {
      "name": "python3",
      "display_name": "Python 3"
    },
    "language_info": {
      "name": "python"
    },
    "accelerator": "GPU",
    "gpuClass": "standard"
  },
  "cells": [
    {
      "cell_type": "code",
      "execution_count": 1,
      "metadata": {
        "colab": {
          "base_uri": "https://localhost:8080/"
        },
        "id": "KImg8fwYHDBx",
        "outputId": "8c5baa3f-2935-4f6f-86ee-e5e37aa56fe5"
      },
      "outputs": [
        {
          "output_type": "stream",
          "name": "stdout",
          "text": [
            "Mounted at /content/drive\n"
          ]
        }
      ],
      "source": [
        "from google.colab import drive\n",
        "drive.mount('/content/drive', force_remount=True)"
      ]
    },
    {
      "cell_type": "code",
      "source": [
        "import numpy as np\n",
        "import pandas as pd \n",
        "import matplotlib.pyplot as plt"
      ],
      "metadata": {
        "id": "IpulvbbSHtr5"
      },
      "execution_count": 2,
      "outputs": []
    },
    {
      "cell_type": "code",
      "source": [
        "import cv2\n",
        "from pathlib import Path\n",
        "path1 = Path('/content/drive/MyDrive/face/')\n",
        "classnames = []\n",
        "for path in Path(path1).iterdir():\n",
        "    if path.is_dir():\n",
        "        classnames.append(str(path).split('/')[-1])\n",
        "print(classnames)"
      ],
      "metadata": {
        "colab": {
          "base_uri": "https://localhost:8080/"
        },
        "id": "fq0Plgm37fVA",
        "outputId": "2e2b6840-998c-4556-f429-d2cbc90d2b4a"
      },
      "execution_count": 3,
      "outputs": [
        {
          "output_type": "stream",
          "name": "stdout",
          "text": [
            "['Phuc', 'Hoang', 'Tan', 'Tanh', 'phi', 'Nguyen', 'Han', 'Thuong', 'Thoai', 'LamVu']\n"
          ]
        }
      ]
    },
    {
      "cell_type": "code",
      "source": [
        "X = []\n",
        "y = []\n",
        "for i in range(len(classnames)):\n",
        "  print(classnames[i])\n",
        "  images = list(Path('/content/drive/MyDrive/face/'+classnames[i]).glob('*'))\n",
        "  for image in range(int(0.4*len(images))):\n",
        "    img = cv2.imread(str(images[image]))\n",
        "    img = cv2.resize(img, (64, 64))\n",
        "    img = img.astype('float32')\n",
        "    img = img/255\n",
        "    X.append(img)\n",
        "    y.append(i)"
      ],
      "metadata": {
        "colab": {
          "base_uri": "https://localhost:8080/"
        },
        "id": "dXGybpnD7qHH",
        "outputId": "6effd685-d1f1-4278-a3d2-b8c98f3203e3"
      },
      "execution_count": 4,
      "outputs": [
        {
          "output_type": "stream",
          "name": "stdout",
          "text": [
            "Phuc\n",
            "Hoang\n",
            "Tan\n",
            "Tanh\n",
            "phi\n",
            "Nguyen\n",
            "Han\n",
            "Thuong\n",
            "Thoai\n",
            "LamVu\n"
          ]
        }
      ]
    },
    {
      "cell_type": "code",
      "source": [
        "from keras.utils import to_categorical\n",
        "y = to_categorical(y)"
      ],
      "metadata": {
        "id": "WkCZ_4W27yXC"
      },
      "execution_count": 5,
      "outputs": []
    },
    {
      "cell_type": "code",
      "source": [
        "print(y.shape)\n",
        "print(np.array(X).shape)"
      ],
      "metadata": {
        "colab": {
          "base_uri": "https://localhost:8080/"
        },
        "id": "Dpfy_79u7-GL",
        "outputId": "b3b2c34c-61e4-4f0f-8a01-0070c967a5da"
      },
      "execution_count": 6,
      "outputs": [
        {
          "output_type": "stream",
          "name": "stdout",
          "text": [
            "(427, 10)\n",
            "(427, 64, 64, 3)\n"
          ]
        }
      ]
    },
    {
      "cell_type": "code",
      "source": [
        "from sklearn.model_selection import train_test_split\n",
        "X_train, X_test, y_train, y_test = train_test_split(np.array(X), np.array(y), test_size=0.2)"
      ],
      "metadata": {
        "id": "F9nC9ji88Aw5"
      },
      "execution_count": 7,
      "outputs": []
    },
    {
      "cell_type": "code",
      "source": [
        "from keras.models import Sequential, Model\n",
        "from keras.layers import Dense, Activation, Flatten\n",
        "from keras.layers import Conv2D, MaxPooling2D\n",
        "\n",
        "model = Sequential()\n",
        "model.add((Conv2D(32, kernel_size=(3,3), activation='relu', input_shape=(64,64,3), padding='same')))\n",
        "model.add(MaxPooling2D((2,2), padding='same'))\n",
        "\n",
        "model.add(Conv2D(64, kernel_size=(3,3), activation='relu', padding='same'))\n",
        "model.add(MaxPooling2D((2,2),padding='same'))\n",
        "\n",
        "model.add(Flatten())\n",
        "model.add(Dense(128, activation= 'relu'))\n",
        "model.add(Dense(10, activation= 'softmax'))"
      ],
      "metadata": {
        "id": "K6xa8XzV8Ds6"
      },
      "execution_count": 8,
      "outputs": []
    },
    {
      "cell_type": "code",
      "source": [
        "from keras.optimizers import Adam\n",
        "import keras\n",
        "model.compile(optimizer= Adam(), loss = keras.losses.categorical_crossentropy, metrics= ['accuracy'])"
      ],
      "metadata": {
        "id": "8U9RvOg68RYw"
      },
      "execution_count": 9,
      "outputs": []
    },
    {
      "cell_type": "code",
      "source": [
        "history = model.fit(X_train, y_train, batch_size= 128 , epochs= 20 , verbose= 2)"
      ],
      "metadata": {
        "colab": {
          "base_uri": "https://localhost:8080/"
        },
        "id": "Qd-ssqiT8T5N",
        "outputId": "3f084582-ca37-4f45-acd6-e4fe3ebfa1cc"
      },
      "execution_count": 10,
      "outputs": [
        {
          "output_type": "stream",
          "name": "stdout",
          "text": [
            "Epoch 1/20\n",
            "3/3 - 9s - loss: 2.1045 - accuracy: 0.3079 - 9s/epoch - 3s/step\n",
            "Epoch 2/20\n",
            "3/3 - 0s - loss: 1.3114 - accuracy: 0.6012 - 44ms/epoch - 15ms/step\n",
            "Epoch 3/20\n",
            "3/3 - 0s - loss: 0.7563 - accuracy: 0.8680 - 43ms/epoch - 14ms/step\n",
            "Epoch 4/20\n",
            "3/3 - 0s - loss: 0.3362 - accuracy: 0.9413 - 44ms/epoch - 15ms/step\n",
            "Epoch 5/20\n",
            "3/3 - 0s - loss: 0.1196 - accuracy: 0.9883 - 42ms/epoch - 14ms/step\n",
            "Epoch 6/20\n",
            "3/3 - 0s - loss: 0.0358 - accuracy: 1.0000 - 42ms/epoch - 14ms/step\n",
            "Epoch 7/20\n",
            "3/3 - 0s - loss: 0.0146 - accuracy: 1.0000 - 43ms/epoch - 14ms/step\n",
            "Epoch 8/20\n",
            "3/3 - 0s - loss: 0.0055 - accuracy: 1.0000 - 46ms/epoch - 15ms/step\n",
            "Epoch 9/20\n",
            "3/3 - 0s - loss: 0.0019 - accuracy: 1.0000 - 49ms/epoch - 16ms/step\n",
            "Epoch 10/20\n",
            "3/3 - 0s - loss: 8.2846e-04 - accuracy: 1.0000 - 44ms/epoch - 15ms/step\n",
            "Epoch 11/20\n",
            "3/3 - 0s - loss: 6.2835e-04 - accuracy: 1.0000 - 50ms/epoch - 17ms/step\n",
            "Epoch 12/20\n",
            "3/3 - 0s - loss: 3.8835e-04 - accuracy: 1.0000 - 43ms/epoch - 14ms/step\n",
            "Epoch 13/20\n",
            "3/3 - 0s - loss: 2.3261e-04 - accuracy: 1.0000 - 43ms/epoch - 14ms/step\n",
            "Epoch 14/20\n",
            "3/3 - 0s - loss: 1.2327e-04 - accuracy: 1.0000 - 45ms/epoch - 15ms/step\n",
            "Epoch 15/20\n",
            "3/3 - 0s - loss: 9.4454e-05 - accuracy: 1.0000 - 43ms/epoch - 14ms/step\n",
            "Epoch 16/20\n",
            "3/3 - 0s - loss: 8.2174e-05 - accuracy: 1.0000 - 43ms/epoch - 14ms/step\n",
            "Epoch 17/20\n",
            "3/3 - 0s - loss: 6.4760e-05 - accuracy: 1.0000 - 49ms/epoch - 16ms/step\n",
            "Epoch 18/20\n",
            "3/3 - 0s - loss: 5.6794e-05 - accuracy: 1.0000 - 43ms/epoch - 14ms/step\n",
            "Epoch 19/20\n",
            "3/3 - 0s - loss: 4.8056e-05 - accuracy: 1.0000 - 44ms/epoch - 15ms/step\n",
            "Epoch 20/20\n",
            "3/3 - 0s - loss: 4.2906e-05 - accuracy: 1.0000 - 41ms/epoch - 14ms/step\n"
          ]
        }
      ]
    },
    {
      "cell_type": "code",
      "source": [
        "plt.plot(history.history['accuracy'])\n",
        "plt.plot(history.history['loss'])\n",
        "plt.title('do chinh xac mo hinh')\n",
        "plt.ylabel('do chinh xac')\n",
        "plt.xlabel('so lan do')\n",
        "plt.legend(['do chinh xac','sai so'], loc = 'lower right')"
      ],
      "metadata": {
        "colab": {
          "base_uri": "https://localhost:8080/",
          "height": 312
        },
        "id": "HDaGLeKp9MYk",
        "outputId": "1fd667bb-abb4-4093-81ce-ef58e8c900b0"
      },
      "execution_count": 19,
      "outputs": [
        {
          "output_type": "execute_result",
          "data": {
            "text/plain": [
              "<matplotlib.legend.Legend at 0x7f606c47b650>"
            ]
          },
          "metadata": {},
          "execution_count": 19
        },
        {
          "output_type": "display_data",
          "data": {
            "text/plain": [
              "<Figure size 432x288 with 1 Axes>"
            ],
            "image/png": "[encoded data removed]"
          },
          "metadata": {
            "needs_background": "light"
          }
        }
      ]
    },
    {
      "cell_type": "code",
      "source": [
        "#evaluating the model for testing data..\n",
        "test_loss,test_acc=model.evaluate(X_test,y_test)"
      ],
      "metadata": {
        "colab": {
          "base_uri": "https://localhost:8080/"
        },
        "id": "1XBktHWw8aE1",
        "outputId": "efe0c32d-1131-4213-fbb2-845be201eff8"
      },
      "execution_count": 11,
      "outputs": [
        {
          "output_type": "stream",
          "name": "stdout",
          "text": [
            "3/3 [==============================] - 0s 34ms/step - loss: 1.4930e-04 - accuracy: 1.0000\n"
          ]
        }
      ]
    },
    {
      "cell_type": "code",
      "source": [
        "n = 6\n",
        "print(X_test[n].shape)\n",
        "plt.imshow(X_test[n])\n",
        "pred = model.predict(X_test[n].reshape((1, 64, 64, 3)))\n",
        "print(classnames[pred.argmax()])\n",
        "print(classnames[y_test[n].argmax()])"
      ],
      "metadata": {
        "colab": {
          "base_uri": "https://localhost:8080/",
          "height": 337
        },
        "id": "BM-2Bu3c8fWc",
        "outputId": "d1d30bd7-0eb5-4969-fb51-e2e233d390a4"
      },
      "execution_count": 18,
      "outputs": [
        {
          "output_type": "stream",
          "name": "stdout",
          "text": [
            "(64, 64, 3)\n",
            "1/1 [==============================] - 0s 21ms/step\n",
            "Nguyen\n",
            "Nguyen\n"
          ]
        },
        {
          "output_type": "display_data",
          "data": {
            "text/plain": [
              "<Figure size 432x288 with 1 Axes>"
            ],
            "image/png": "[encoded data removed]"
          },
          "metadata": {
            "needs_background": "light"
          }
        }
      ]
    }
  ]
}